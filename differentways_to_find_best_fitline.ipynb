{
  "cells": [
    {
      "cell_type": "markdown",
      "metadata": {
        "id": "view-in-github",
        "colab_type": "text"
      },
      "source": [
        "<a href=\"https://colab.research.google.com/github/shoabahamed/khanacademy-statistics-and-probability/blob/main/differentways_to_find_best_fitline.ipynb\" target=\"_parent\"><img src=\"https://colab.research.google.com/assets/colab-badge.svg\" alt=\"Open In Colab\"/></a>"
      ]
    },
    {
      "cell_type": "code",
      "source": [
        "import numpy as np\n",
        "import pandas as pd\n",
        "import matplotlib.pyplot as plt"
      ],
      "metadata": {
        "id": "M1mRZvmZ_zoD"
      },
      "execution_count": 1,
      "outputs": []
    },
    {
      "cell_type": "markdown",
      "source": [
        "<p>Creating fake datas where x is Area of a building and y is The Price corrospoding to it</p>"
      ],
      "metadata": {
        "id": "rUkPV-f-BGUh"
      }
    },
    {
      "cell_type": "code",
      "source": [
        "datas = {'Area': [15, 20, 22, 23, 24, 25, 28, 30 , 35, 39, 40, 43, 45, 50],\n",
        "            'Price': [200, 260, 354, 376, 335, 380, 459, 530, 600, 685, 700, 735, 800, 955]}\n",
        "\n",
        "df = pd.DataFrame(datas)\n",
        "df.head()"
      ],
      "metadata": {
        "colab": {
          "base_uri": "https://localhost:8080/",
          "height": 206
        },
        "id": "zyh8jVTbAIom",
        "outputId": "de2ca33a-1f3a-4e88-eed4-e94ab8c24f29"
      },
      "execution_count": 26,
      "outputs": [
        {
          "output_type": "execute_result",
          "data": {
            "text/plain": [
              "   Area  Price\n",
              "0    15    200\n",
              "1    20    260\n",
              "2    22    354\n",
              "3    23    376\n",
              "4    24    335"
            ],
            "text/html": [
              "\n",
              "  <div id=\"df-6936217c-fcc6-44bc-86b2-bd848b9c5d3e\">\n",
              "    <div class=\"colab-df-container\">\n",
              "      <div>\n",
              "<style scoped>\n",
              "    .dataframe tbody tr th:only-of-type {\n",
              "        vertical-align: middle;\n",
              "    }\n",
              "\n",
              "    .dataframe tbody tr th {\n",
              "        vertical-align: top;\n",
              "    }\n",
              "\n",
              "    .dataframe thead th {\n",
              "        text-align: right;\n",
              "    }\n",
              "</style>\n",
              "<table border=\"1\" class=\"dataframe\">\n",
              "  <thead>\n",
              "    <tr style=\"text-align: right;\">\n",
              "      <th></th>\n",
              "      <th>Area</th>\n",
              "      <th>Price</th>\n",
              "    </tr>\n",
              "  </thead>\n",
              "  <tbody>\n",
              "    <tr>\n",
              "      <th>0</th>\n",
              "      <td>15</td>\n",
              "      <td>200</td>\n",
              "    </tr>\n",
              "    <tr>\n",
              "      <th>1</th>\n",
              "      <td>20</td>\n",
              "      <td>260</td>\n",
              "    </tr>\n",
              "    <tr>\n",
              "      <th>2</th>\n",
              "      <td>22</td>\n",
              "      <td>354</td>\n",
              "    </tr>\n",
              "    <tr>\n",
              "      <th>3</th>\n",
              "      <td>23</td>\n",
              "      <td>376</td>\n",
              "    </tr>\n",
              "    <tr>\n",
              "      <th>4</th>\n",
              "      <td>24</td>\n",
              "      <td>335</td>\n",
              "    </tr>\n",
              "  </tbody>\n",
              "</table>\n",
              "</div>\n",
              "      <button class=\"colab-df-convert\" onclick=\"convertToInteractive('df-6936217c-fcc6-44bc-86b2-bd848b9c5d3e')\"\n",
              "              title=\"Convert this dataframe to an interactive table.\"\n",
              "              style=\"display:none;\">\n",
              "        \n",
              "  <svg xmlns=\"http://www.w3.org/2000/svg\" height=\"24px\"viewBox=\"0 0 24 24\"\n",
              "       width=\"24px\">\n",
              "    <path d=\"M0 0h24v24H0V0z\" fill=\"none\"/>\n",
              "    <path d=\"M18.56 5.44l.94 2.06.94-2.06 2.06-.94-2.06-.94-.94-2.06-.94 2.06-2.06.94zm-11 1L8.5 8.5l.94-2.06 2.06-.94-2.06-.94L8.5 2.5l-.94 2.06-2.06.94zm10 10l.94 2.06.94-2.06 2.06-.94-2.06-.94-.94-2.06-.94 2.06-2.06.94z\"/><path d=\"M17.41 7.96l-1.37-1.37c-.4-.4-.92-.59-1.43-.59-.52 0-1.04.2-1.43.59L10.3 9.45l-7.72 7.72c-.78.78-.78 2.05 0 2.83L4 21.41c.39.39.9.59 1.41.59.51 0 1.02-.2 1.41-.59l7.78-7.78 2.81-2.81c.8-.78.8-2.07 0-2.86zM5.41 20L4 18.59l7.72-7.72 1.47 1.35L5.41 20z\"/>\n",
              "  </svg>\n",
              "      </button>\n",
              "      \n",
              "  <style>\n",
              "    .colab-df-container {\n",
              "      display:flex;\n",
              "      flex-wrap:wrap;\n",
              "      gap: 12px;\n",
              "    }\n",
              "\n",
              "    .colab-df-convert {\n",
              "      background-color: #E8F0FE;\n",
              "      border: none;\n",
              "      border-radius: 50%;\n",
              "      cursor: pointer;\n",
              "      display: none;\n",
              "      fill: #1967D2;\n",
              "      height: 32px;\n",
              "      padding: 0 0 0 0;\n",
              "      width: 32px;\n",
              "    }\n",
              "\n",
              "    .colab-df-convert:hover {\n",
              "      background-color: #E2EBFA;\n",
              "      box-shadow: 0px 1px 2px rgba(60, 64, 67, 0.3), 0px 1px 3px 1px rgba(60, 64, 67, 0.15);\n",
              "      fill: #174EA6;\n",
              "    }\n",
              "\n",
              "    [theme=dark] .colab-df-convert {\n",
              "      background-color: #3B4455;\n",
              "      fill: #D2E3FC;\n",
              "    }\n",
              "\n",
              "    [theme=dark] .colab-df-convert:hover {\n",
              "      background-color: #434B5C;\n",
              "      box-shadow: 0px 1px 3px 1px rgba(0, 0, 0, 0.15);\n",
              "      filter: drop-shadow(0px 1px 2px rgba(0, 0, 0, 0.3));\n",
              "      fill: #FFFFFF;\n",
              "    }\n",
              "  </style>\n",
              "\n",
              "      <script>\n",
              "        const buttonEl =\n",
              "          document.querySelector('#df-6936217c-fcc6-44bc-86b2-bd848b9c5d3e button.colab-df-convert');\n",
              "        buttonEl.style.display =\n",
              "          google.colab.kernel.accessAllowed ? 'block' : 'none';\n",
              "\n",
              "        async function convertToInteractive(key) {\n",
              "          const element = document.querySelector('#df-6936217c-fcc6-44bc-86b2-bd848b9c5d3e');\n",
              "          const dataTable =\n",
              "            await google.colab.kernel.invokeFunction('convertToInteractive',\n",
              "                                                     [key], {});\n",
              "          if (!dataTable) return;\n",
              "\n",
              "          const docLinkHtml = 'Like what you see? Visit the ' +\n",
              "            '<a target=\"_blank\" href=https://colab.research.google.com/notebooks/data_table.ipynb>data table notebook</a>'\n",
              "            + ' to learn more about interactive tables.';\n",
              "          element.innerHTML = '';\n",
              "          dataTable['output_type'] = 'display_data';\n",
              "          await google.colab.output.renderOutput(dataTable, element);\n",
              "          const docLink = document.createElement('div');\n",
              "          docLink.innerHTML = docLinkHtml;\n",
              "          element.appendChild(docLink);\n",
              "        }\n",
              "      </script>\n",
              "    </div>\n",
              "  </div>\n",
              "  "
            ]
          },
          "metadata": {},
          "execution_count": 26
        }
      ]
    },
    {
      "cell_type": "code",
      "source": [
        "x = df['Area']\n",
        "y = df['Price']"
      ],
      "metadata": {
        "id": "kW2dTok1N7UO"
      },
      "execution_count": 27,
      "outputs": []
    },
    {
      "cell_type": "code",
      "source": [
        "plt.scatter(x, y)\n",
        "plt.title('PRICE VS AREA')\n",
        "plt.show()"
      ],
      "metadata": {
        "colab": {
          "base_uri": "https://localhost:8080/",
          "height": 281
        },
        "id": "Z6aB9OxGBoA3",
        "outputId": "6554f314-bde2-4d80-fa54-59e770f9919e"
      },
      "execution_count": 28,
      "outputs": [
        {
          "output_type": "display_data",
          "data": {
            "text/plain": [
              "<Figure size 432x288 with 1 Axes>"
            ],
            "image/png": "[encoded data removed]"
          },
          "metadata": {
            "needs_background": "light"
          }
        }
      ]
    },
    {
      "cell_type": "markdown",
      "source": [
        "<P>Lets write a function to calculate the mean squared error first</p>"
      ],
      "metadata": {
        "id": "4LaJLhH7Dr8g"
      }
    },
    {
      "cell_type": "code",
      "source": [
        "def mean_squared_error(y_true, y_pred):\n",
        "    y_true = np.array(y_true)\n",
        "    y_pred = np.array(y_pred)\n",
        "    \n",
        "    sqrt_error = np.square(y_true - y_pred)\n",
        "    return np.mean(sqrt_error)\n",
        "\n",
        "mean_squared_error([1, 2, 3], [3, 4, 5])"
      ],
      "metadata": {
        "colab": {
          "base_uri": "https://localhost:8080/"
        },
        "id": "-KWamS-RDqke",
        "outputId": "51067532-2103-4b14-ec01-479fe152cd40"
      },
      "execution_count": 5,
      "outputs": [
        {
          "output_type": "execute_result",
          "data": {
            "text/plain": [
              "4.0"
            ]
          },
          "metadata": {},
          "execution_count": 5
        }
      ]
    },
    {
      "cell_type": "markdown",
      "source": [
        "<P>First we will try to find the best fit line through the equation derived \n",
        "</P>"
      ],
      "metadata": {
        "id": "P9JsJVs9DN2p"
      }
    },
    {
      "cell_type": "code",
      "source": [
        "def get_slope(x, y):\n",
        "\n",
        "    x = np.array(x)\n",
        "    y = np.array(y)\n",
        "\n",
        "    x_square = np.square(x)\n",
        "    xy = x*y\n",
        "\n",
        "    x_mean = np.mean(x)\n",
        "    y_mean = np.mean(y)\n",
        "    x_square_mean = np.mean(x_square)\n",
        "    xy_mean = np.mean(xy)\n",
        "\n",
        "    nominator = (xy_mean/x_mean) - y_mean\n",
        "    denominator = (x_square_mean/x_mean) - x_mean\n",
        "    return nominator/denominator\n",
        "\n",
        "def get_intercept(x, y):\n",
        "    x = np.array(x)\n",
        "    y = np.array(y)\n",
        "\n",
        "    y_mean = np.mean(y)\n",
        "    x_mean = np.mean(x)\n",
        "    slope = get_slope(x, y)\n",
        "\n",
        "    intercept = y_mean - (x_mean * slope)\n",
        "\n",
        "    return intercept\n"
      ],
      "metadata": {
        "id": "nCXXV8ZgBevf"
      },
      "execution_count": 6,
      "outputs": []
    },
    {
      "cell_type": "code",
      "source": [
        "slope = get_slope(x, y)\n",
        "intercept = get_intercept(x, y)\n",
        "\n",
        "print(f'The slope of the equation though direct equation is {slope} and the intercept is {intercept}')"
      ],
      "metadata": {
        "colab": {
          "base_uri": "https://localhost:8080/"
        },
        "id": "2zPR96_-R6LS",
        "outputId": "4c946d2d-bc6d-4e74-f371-03dd2000369b"
      },
      "execution_count": 29,
      "outputs": [
        {
          "output_type": "stream",
          "name": "stdout",
          "text": [
            "The slope of the equation though direct equation is 20.936173299163507 and the intercept is -130.14143416662705\n"
          ]
        }
      ]
    },
    {
      "cell_type": "code",
      "source": [
        "def predicted_y(x):\n",
        "    y_pred = slope * x + intercept\n",
        "    return y_pred\n"
      ],
      "metadata": {
        "id": "2XHpnh6ES5gi"
      },
      "execution_count": 8,
      "outputs": []
    },
    {
      "cell_type": "code",
      "source": [
        "y_pred_dir = predicted_y(x)"
      ],
      "metadata": {
        "id": "r7yH-Ja7TNh0"
      },
      "execution_count": 30,
      "outputs": []
    },
    {
      "cell_type": "code",
      "source": [
        "plt.scatter(x, y)\n",
        "plt.plot(x, y_pred_dir)\n",
        "plt.title('Finding best fit line using direct equation')\n",
        "plt.show()"
      ],
      "metadata": {
        "colab": {
          "base_uri": "https://localhost:8080/",
          "height": 281
        },
        "id": "CzPdYpy2TUl0",
        "outputId": "052f1110-dcc6-4d69-b5f0-f9e5510affff"
      },
      "execution_count": 31,
      "outputs": [
        {
          "output_type": "display_data",
          "data": {
            "text/plain": [
              "<Figure size 432x288 with 1 Axes>"
            ],
            "image/png": "[encoded data removed]"
          },
          "metadata": {
            "needs_background": "light"
          }
        }
      ]
    },
    {
      "cell_type": "code",
      "source": [
        "print(f'Total mean squared error with direct equation {mean_squared_error(y, y_pred_dir)}')"
      ],
      "metadata": {
        "colab": {
          "base_uri": "https://localhost:8080/"
        },
        "id": "RDEMWlTccoTK",
        "outputId": "8b41d8c8-660e-4324-f5f8-105e90e4aecc"
      },
      "execution_count": 109,
      "outputs": [
        {
          "output_type": "stream",
          "name": "stdout",
          "text": [
            "Total mean squared error with direct equation 553.5497385453863\n"
          ]
        }
      ]
    },
    {
      "cell_type": "markdown",
      "source": [
        "<h2>Now lets try finds the best fit line using gradient discent</h2>"
      ],
      "metadata": {
        "id": "0DBUl9k6cdd9"
      }
    },
    {
      "cell_type": "code",
      "source": [
        "def gradient_descent(x, y_true, learning_rate=0.01, threshold=600, epochs=30):\n",
        "    x = np.array(x)\n",
        "    y_true = np.array(y_true)\n",
        "\n",
        "    x_squared_mean = np.mean(np.square(x))\n",
        "    x_mean = np.mean(x)\n",
        "\n",
        "    w = 0\n",
        "    bias = 1\n",
        "\n",
        "    for i in range(epochs):\n",
        "        y_pred = w * x + bias\n",
        "        error = mean_squared_error(y_true, y_pred)\n",
        "\n",
        "        xy_pred_mean = np.mean(x * y_pred)\n",
        "        y_pred_mean = np.mean(y_pred)\n",
        "        \n",
        "        w_d = -xy_pred_mean + w * x_squared_mean + bias * x_mean\n",
        "        bias_d = -y_pred_mean + w * x_mean + bias\n",
        "\n",
        "        print(bias_d)\n",
        "        print(w_d)\n",
        "        w = w - learning_rate * w_d\n",
        "        bias = bias - learning_rate * bias_d\n",
        "\n",
        "        print(f'The total mean square error is {error}')\n",
        "        print(y_pred_mean, xy_pred_mean, x_mean, x_squared_mean)\n",
        "        if error < threshold:\n",
        "            break\n",
        "\n",
        "    return w, bias"
      ],
      "metadata": {
        "id": "MDxuAZqHcczG"
      },
      "execution_count": 37,
      "outputs": []
    },
    {
      "cell_type": "code",
      "source": [
        "gradient_descent(x, y, learning_rate=0.3, epochs=2, threshold=6)"
      ],
      "metadata": {
        "colab": {
          "base_uri": "https://localhost:8080/"
        },
        "id": "7G4mLZWpghhv",
        "outputId": "77a5306f-0d68-473b-a088-f3df30bfb28f"
      },
      "execution_count": 38,
      "outputs": [
        {
          "output_type": "stream",
          "name": "stdout",
          "text": [
            "0.0\n",
            "0.0\n",
            "The total mean square error is 322803.5\n",
            "1.0 31.357142857142858 31.357142857142858 1088.7857142857142\n",
            "0.0\n",
            "0.0\n",
            "The total mean square error is 322803.5\n",
            "1.0 31.357142857142858 31.357142857142858 1088.7857142857142\n"
          ]
        },
        {
          "output_type": "execute_result",
          "data": {
            "text/plain": [
              "(0.0, 1.0)"
            ]
          },
          "metadata": {},
          "execution_count": 38
        }
      ]
    },
    {
      "cell_type": "markdown",
      "source": [
        "We can see that the values are not changing because although we doing derivative of the same MSE error we are assuming the diff with respect to m or b will the 0 so is w_d and bias_d will alwasy gives 0"
      ],
      "metadata": {
        "id": "_TDGsPIOPHZ7"
      }
    },
    {
      "cell_type": "markdown",
      "source": [
        "<p>So we to partially dif MSE equation from the most basic equation without doing any algebric equation manipulation and thiking that diff with respect to m would be 0 and </p>"
      ],
      "metadata": {
        "id": "WpnNGpOzPjyV"
      }
    },
    {
      "cell_type": "code",
      "source": [
        "from math import isclose\n",
        "\n",
        "isclose(5.3333333334, 5.33333)"
      ],
      "metadata": {
        "id": "02D7gfTOUBoA",
        "outputId": "b2a7be43-cab3-4b6b-eac6-0068fadead2f",
        "colab": {
          "base_uri": "https://localhost:8080/"
        }
      },
      "execution_count": 99,
      "outputs": [
        {
          "output_type": "execute_result",
          "data": {
            "text/plain": [
              "False"
            ]
          },
          "metadata": {},
          "execution_count": 99
        }
      ]
    },
    {
      "cell_type": "code",
      "source": [
        "def gradient_descent(x, y_true, learning_rate=0.001, threshold=600, epochs=30):\n",
        "    x = np.array(x)\n",
        "    y_true = np.array(y_true)\n",
        "\n",
        "    w = 0\n",
        "    bias = 1\n",
        "    n = len(x)\n",
        "\n",
        "    for index in range(epochs):\n",
        "        y_pred = w * x + bias\n",
        "        error = mean_squared_error(y_true, y_pred)\n",
        "\n",
        "        w_d =   -(2/n) * sum(x * (y_true- y_pred))\n",
        "        bias_d = -(2/n) * sum(y_true - y_pred)\n",
        "\n",
        "        w = w -  learning_rate * w_d\n",
        "        bias = bias - learning_rate * bias_d\n",
        "        if index % 30 == 0:\n",
        "            print(f'The total mean square error is {error} and slope {w}, bias {bias}')\n",
        "\n",
        "        if error < threshold:\n",
        "            break\n",
        "\n",
        "        prev_error = error\n",
        "\n",
        "    return w, bias"
      ],
      "metadata": {
        "id": "9hJVHBJPjGkO"
      },
      "execution_count": 42,
      "outputs": []
    },
    {
      "cell_type": "code",
      "source": [
        "gradient_descent(x, y, learning_rate=0.01, epochs=90, threshold=1)"
      ],
      "metadata": {
        "colab": {
          "base_uri": "https://localhost:8080/"
        },
        "id": "OWD17X8lnOv9",
        "outputId": "52559799-e8d9-4537-e0e4-dcaed1a56509"
      },
      "execution_count": 47,
      "outputs": [
        {
          "output_type": "stream",
          "name": "stdout",
          "text": [
            "The total mean square error is 322803.5 and slope 373.6557142857143, bias 11.507142857142856\n",
            "The total mean square error is 3.8188059016224566e+84 and slope 1.2304553507267576e+42, bias 3.5440395132885833e+40\n",
            "The total mean square error is 4.5491615031128645e+163 and slope 4.246858042502894e+81, bias 1.2232083594961738e+80\n"
          ]
        },
        {
          "output_type": "execute_result",
          "data": {
            "text/plain": [
              "(-7.04914157868154e+119, -2.0303407413245184e+118)"
            ]
          },
          "metadata": {},
          "execution_count": 47
        }
      ]
    },
    {
      "cell_type": "markdown",
      "source": [
        "<p>Okay what is happening is pretty confusing as despite everything being okay with each iteration rather than MSE going down it is only increasing. <br>\n",
        "Well the reason it is happening is that we did not scaled our data\n",
        "before doing gradient discent.<br>\n",
        "So lets do that</p>"
      ],
      "metadata": {
        "id": "UoQlIz6fQl1M"
      }
    },
    {
      "cell_type": "code",
      "source": [
        "from sklearn.preprocessing import MinMaxScaler"
      ],
      "metadata": {
        "id": "Fo3x8qXzsGKV"
      },
      "execution_count": 48,
      "outputs": []
    },
    {
      "cell_type": "code",
      "source": [
        "scaler_x = MinMaxScaler()\n",
        "scaler_y = MinMaxScaler()\n",
        "\n",
        "scaled_x = scaler_x.fit_transform(x.values.reshape(len(x), 1))\n",
        "scaled_y = scaler_y.fit_transform(y.values.reshape(len(x), 1))\n",
        "scaled_y.flatten()"
      ],
      "metadata": {
        "colab": {
          "base_uri": "https://localhost:8080/"
        },
        "id": "wx_O8bwYsNnr",
        "outputId": "51c26427-1b89-4885-cede-5f39686db24a"
      },
      "execution_count": 59,
      "outputs": [
        {
          "output_type": "execute_result",
          "data": {
            "text/plain": [
              "array([0.        , 0.0794702 , 0.20397351, 0.23311258, 0.17880795,\n",
              "       0.2384106 , 0.34304636, 0.43708609, 0.52980132, 0.64238411,\n",
              "       0.66225166, 0.70860927, 0.79470199, 1.        ])"
            ]
          },
          "metadata": {},
          "execution_count": 59
        }
      ]
    },
    {
      "cell_type": "code",
      "source": [
        "scaler_y.inverse_transform(scaled_y).flatten()"
      ],
      "metadata": {
        "colab": {
          "base_uri": "https://localhost:8080/"
        },
        "id": "6iq21TaYs7FT",
        "outputId": "9d292910-41f9-4a75-ee48-4d41e77ab532"
      },
      "execution_count": 57,
      "outputs": [
        {
          "output_type": "execute_result",
          "data": {
            "text/plain": [
              "array([200., 260., 354., 376., 335., 380., 459., 530., 600., 685., 700.,\n",
              "       735., 800., 955.])"
            ]
          },
          "metadata": {},
          "execution_count": 57
        }
      ]
    },
    {
      "cell_type": "code",
      "source": [
        "scaled_x = scaled_x.reshape(len(x), )\n",
        "scaled_y = scaled_y.reshape(len(y), )"
      ],
      "metadata": {
        "id": "RFjzuEKQtKmH"
      },
      "execution_count": 60,
      "outputs": []
    },
    {
      "cell_type": "code",
      "source": [
        "w, bias = gradient_descent(scaled_x, scaled_y, learning_rate=0.5, epochs=300, threshold=0.0004)"
      ],
      "metadata": {
        "colab": {
          "base_uri": "https://localhost:8080/"
        },
        "id": "iijQrKW9rA8V",
        "outputId": "ebafcf9b-e934-4b32-e1c5-8edd3de4bbb4"
      },
      "execution_count": 101,
      "outputs": [
        {
          "output_type": "stream",
          "name": "stdout",
          "text": [
            "The total mean square error is 0.4044350185142256 and slope -0.1817326665765644, bias 0.43226111636707676\n",
            "The total mean square error is 0.0025717734556494434 and slope 0.8446341122581037, bias 0.04193673559499176\n",
            "The total mean square error is 0.0009919949398756497 and slope 0.9561637191993917, bias -0.014094862754007523\n",
            "The total mean square error is 0.0009713701294912133 and slope 0.9689071701658803, bias -0.02049707240682509\n",
            "The total mean square error is 0.0009711008621229419 and slope 0.9703632457944872, bias -0.0212285933636847\n",
            "The total mean square error is 0.0009710973467007757 and slope 0.9705296180151516, bias -0.021312177460323774\n",
            "The total mean square error is 0.0009710973008051542 and slope 0.970548627821555, bias -0.021321727837719528\n",
            "The total mean square error is 0.0009710973002059629 and slope 0.9705507998953429, bias -0.02132281907052666\n",
            "The total mean square error is 0.000971097300198141 and slope 0.9705510480780143, bias -0.021322943755551084\n",
            "The total mean square error is 0.0009710973001980384 and slope 0.9705510764355402, bias -0.02132295800214928\n"
          ]
        }
      ]
    },
    {
      "cell_type": "code",
      "source": [
        "y_pred_gradient = w * scaled_x + bias\n",
        "y_pred_grad = scaler_y.inverse_transform(y_pred_gradient.reshape(len(y_pred_gradient), 1)).flatten()\n",
        "y_pred_grad = [round(value) for value in y_pred_grad]\n",
        "y_pred_grad"
      ],
      "metadata": {
        "colab": {
          "base_uri": "https://localhost:8080/"
        },
        "id": "3HUWZ9qSuB_3",
        "outputId": "6d787af0-3ce2-4eea-accc-bdee1b49b12c"
      },
      "execution_count": 111,
      "outputs": [
        {
          "output_type": "execute_result",
          "data": {
            "text/plain": [
              "[184, 289, 330, 351, 372, 393, 456, 498, 603, 686, 707, 770, 812, 917]"
            ]
          },
          "metadata": {},
          "execution_count": 111
        }
      ]
    },
    {
      "cell_type": "code",
      "source": [
        "plt.scatter(x, y)\n",
        "plt.plot(x, y_pred_grad)\n",
        "plt.title('Best fit line using gradient descent')\n",
        "plt.show()"
      ],
      "metadata": {
        "colab": {
          "base_uri": "https://localhost:8080/",
          "height": 281
        },
        "id": "NQMFagO8vIZr",
        "outputId": "2ee88959-f27c-429e-aca0-c5c3bf2eb8b5"
      },
      "execution_count": 112,
      "outputs": [
        {
          "output_type": "display_data",
          "data": {
            "text/plain": [
              "<Figure size 432x288 with 1 Axes>"
            ],
            "image/png": "[encoded data removed]"
          },
          "metadata": {
            "needs_background": "light"
          }
        }
      ]
    },
    {
      "cell_type": "code",
      "source": [
        "print(f'The mean square error using gradient descent is {mean_squared_error(y, y_pred_grad)}')"
      ],
      "metadata": {
        "colab": {
          "base_uri": "https://localhost:8080/"
        },
        "id": "i2G0k35BuVx5",
        "outputId": "77cecf9a-da71-4dfa-f16f-0c9504a347bf"
      },
      "execution_count": 113,
      "outputs": [
        {
          "output_type": "stream",
          "name": "stdout",
          "text": [
            "The mean square error using gradient descent is 552.9285714285714\n"
          ]
        }
      ]
    },
    {
      "cell_type": "code",
      "source": [
        "plt.figure(figsize=(10, 5))\n",
        "plt.scatter(x, y)\n",
        "plt.plot(x, y_pred_grad, label='Using gradent descent')\n",
        "plt.plot(x, y_pred_dir, label='Using direct equation')\n",
        "plt.title('Best fit line using gradient descent and direct equation')\n",
        "plt.legend()\n",
        "plt.show()"
      ],
      "metadata": {
        "id": "4bU1u_GMXKQn",
        "outputId": "226c87a0-fdc5-4cdf-d351-1e290c88b8a2",
        "colab": {
          "base_uri": "https://localhost:8080/",
          "height": 336
        }
      },
      "execution_count": 117,
      "outputs": [
        {
          "output_type": "display_data",
          "data": {
            "text/plain": [
              "<Figure size 720x360 with 1 Axes>"
            ],
            "image/png": "[encoded data removed]"
          },
          "metadata": {
            "needs_background": "light"
          }
        }
      ]
    },
    {
      "cell_type": "code",
      "source": [
        "print(f'The mean square error using gradient descent is {mean_squared_error(y, y_pred_grad)}')\n",
        "print(f'The mean square error using direct equation is {mean_squared_error(y, y_pred_dir)}')"
      ],
      "metadata": {
        "id": "BVInTEQBV3eD",
        "outputId": "31152ea1-f1be-4fbf-c129-ef73fbb75333",
        "colab": {
          "base_uri": "https://localhost:8080/"
        }
      },
      "execution_count": 114,
      "outputs": [
        {
          "output_type": "stream",
          "name": "stdout",
          "text": [
            "The mean square error using gradient descent is 552.9285714285714\n",
            "The mean square error using direct equation is 553.5497385453863\n"
          ]
        }
      ]
    },
    {
      "cell_type": "markdown",
      "source": [
        "<p>We can see that in both cases the error and values are mostly same. So to figure out the best fit line both are correct but incase of direct method if we have more than one input or feaures  it becomes very hard to come up with a equation to solve the problem</p>\n",
        "<p>But if we use gradient descent we can easliy find the best fit line no matter what is the number of features there are</p>\n",
        "<br>\n",
        "<h3>So gradient descent is best for finding best fit line</h3>"
      ],
      "metadata": {
        "id": "Q6fojMFdWUi0"
      }
    },
    {
      "cell_type": "code",
      "source": [
        ""
      ],
      "metadata": {
        "id": "0VSZO53TWTBK"
      },
      "execution_count": null,
      "outputs": []
    },
    {
      "cell_type": "code",
      "source": [
        ""
      ],
      "metadata": {
        "id": "HK_frMILWC_l"
      },
      "execution_count": null,
      "outputs": []
    }
  ],
  "metadata": {
    "colab": {
      "collapsed_sections": [],
      "name": "differentways_to_find_best_fitline",
      "provenance": [],
      "include_colab_link": true
    },
    "kernelspec": {
      "display_name": "Python 3",
      "name": "python3"
    }
  },
  "nbformat": 4,
  "nbformat_minor": 0
}