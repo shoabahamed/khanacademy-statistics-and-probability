{
  "cells": [
    {
      "cell_type": "markdown",
      "metadata": {
        "id": "view-in-github",
        "colab_type": "text"
      },
      "source": [
        "<a href=\"https://colab.research.google.com/github/shoabahamed/khanacademy-statistics-and-probability/blob/main/differentways_to_find_best_fitline.ipynb\" target=\"_parent\"><img src=\"https://colab.research.google.com/assets/colab-badge.svg\" alt=\"Open In Colab\"/></a>"
      ]
    },
    {
      "cell_type": "code",
      "source": [
        "import numpy as np\n",
        "import pandas as pd\n",
        "import matplotlib.pyplot as plt"
      ],
      "metadata": {
        "id": "M1mRZvmZ_zoD"
      },
      "execution_count": 6,
      "outputs": []
    },
    {
      "cell_type": "markdown",
      "source": [
        "<p>Creating fake datas where x is Area of a building and y is The Price corrospoding to it</p>"
      ],
      "metadata": {
        "id": "rUkPV-f-BGUh"
      }
    },
    {
      "cell_type": "code",
      "source": [
        "datas = {'Area': [15, 20, 22, 23, 24, 25, 28, 30 , 35, 39, 40, 43, 45, 50],\n",
        "            'Price': [200, 260, 354, 376, 335, 380, 459, 530, 600, 685, 700, 735, 800, 955]}\n",
        "\n",
        "df = pd.DataFrame(datas)\n",
        "df.head()"
      ],
      "metadata": {
        "colab": {
          "base_uri": "https://localhost:8080/",
          "height": 206
        },
        "id": "zyh8jVTbAIom",
        "outputId": "bfd3dea0-89e4-404b-c686-7c66a9b19eed"
      },
      "execution_count": 18,
      "outputs": [
        {
          "output_type": "execute_result",
          "data": {
            "text/plain": [
              "   Area  Price\n",
              "0    15    200\n",
              "1    20    260\n",
              "2    22    354\n",
              "3    23    376\n",
              "4    24    335"
            ],
            "text/html": [
              "\n",
              "  <div id=\"df-25c34f6b-d02b-4411-8c3b-f83cd9668221\">\n",
              "    <div class=\"colab-df-container\">\n",
              "      <div>\n",
              "<style scoped>\n",
              "    .dataframe tbody tr th:only-of-type {\n",
              "        vertical-align: middle;\n",
              "    }\n",
              "\n",
              "    .dataframe tbody tr th {\n",
              "        vertical-align: top;\n",
              "    }\n",
              "\n",
              "    .dataframe thead th {\n",
              "        text-align: right;\n",
              "    }\n",
              "</style>\n",
              "<table border=\"1\" class=\"dataframe\">\n",
              "  <thead>\n",
              "    <tr style=\"text-align: right;\">\n",
              "      <th></th>\n",
              "      <th>Area</th>\n",
              "      <th>Price</th>\n",
              "    </tr>\n",
              "  </thead>\n",
              "  <tbody>\n",
              "    <tr>\n",
              "      <th>0</th>\n",
              "      <td>15</td>\n",
              "      <td>200</td>\n",
              "    </tr>\n",
              "    <tr>\n",
              "      <th>1</th>\n",
              "      <td>20</td>\n",
              "      <td>260</td>\n",
              "    </tr>\n",
              "    <tr>\n",
              "      <th>2</th>\n",
              "      <td>22</td>\n",
              "      <td>354</td>\n",
              "    </tr>\n",
              "    <tr>\n",
              "      <th>3</th>\n",
              "      <td>23</td>\n",
              "      <td>376</td>\n",
              "    </tr>\n",
              "    <tr>\n",
              "      <th>4</th>\n",
              "      <td>24</td>\n",
              "      <td>335</td>\n",
              "    </tr>\n",
              "  </tbody>\n",
              "</table>\n",
              "</div>\n",
              "      <button class=\"colab-df-convert\" onclick=\"convertToInteractive('df-25c34f6b-d02b-4411-8c3b-f83cd9668221')\"\n",
              "              title=\"Convert this dataframe to an interactive table.\"\n",
              "              style=\"display:none;\">\n",
              "        \n",
              "  <svg xmlns=\"http://www.w3.org/2000/svg\" height=\"24px\"viewBox=\"0 0 24 24\"\n",
              "       width=\"24px\">\n",
              "    <path d=\"M0 0h24v24H0V0z\" fill=\"none\"/>\n",
              "    <path d=\"M18.56 5.44l.94 2.06.94-2.06 2.06-.94-2.06-.94-.94-2.06-.94 2.06-2.06.94zm-11 1L8.5 8.5l.94-2.06 2.06-.94-2.06-.94L8.5 2.5l-.94 2.06-2.06.94zm10 10l.94 2.06.94-2.06 2.06-.94-2.06-.94-.94-2.06-.94 2.06-2.06.94z\"/><path d=\"M17.41 7.96l-1.37-1.37c-.4-.4-.92-.59-1.43-.59-.52 0-1.04.2-1.43.59L10.3 9.45l-7.72 7.72c-.78.78-.78 2.05 0 2.83L4 21.41c.39.39.9.59 1.41.59.51 0 1.02-.2 1.41-.59l7.78-7.78 2.81-2.81c.8-.78.8-2.07 0-2.86zM5.41 20L4 18.59l7.72-7.72 1.47 1.35L5.41 20z\"/>\n",
              "  </svg>\n",
              "      </button>\n",
              "      \n",
              "  <style>\n",
              "    .colab-df-container {\n",
              "      display:flex;\n",
              "      flex-wrap:wrap;\n",
              "      gap: 12px;\n",
              "    }\n",
              "\n",
              "    .colab-df-convert {\n",
              "      background-color: #E8F0FE;\n",
              "      border: none;\n",
              "      border-radius: 50%;\n",
              "      cursor: pointer;\n",
              "      display: none;\n",
              "      fill: #1967D2;\n",
              "      height: 32px;\n",
              "      padding: 0 0 0 0;\n",
              "      width: 32px;\n",
              "    }\n",
              "\n",
              "    .colab-df-convert:hover {\n",
              "      background-color: #E2EBFA;\n",
              "      box-shadow: 0px 1px 2px rgba(60, 64, 67, 0.3), 0px 1px 3px 1px rgba(60, 64, 67, 0.15);\n",
              "      fill: #174EA6;\n",
              "    }\n",
              "\n",
              "    [theme=dark] .colab-df-convert {\n",
              "      background-color: #3B4455;\n",
              "      fill: #D2E3FC;\n",
              "    }\n",
              "\n",
              "    [theme=dark] .colab-df-convert:hover {\n",
              "      background-color: #434B5C;\n",
              "      box-shadow: 0px 1px 3px 1px rgba(0, 0, 0, 0.15);\n",
              "      filter: drop-shadow(0px 1px 2px rgba(0, 0, 0, 0.3));\n",
              "      fill: #FFFFFF;\n",
              "    }\n",
              "  </style>\n",
              "\n",
              "      <script>\n",
              "        const buttonEl =\n",
              "          document.querySelector('#df-25c34f6b-d02b-4411-8c3b-f83cd9668221 button.colab-df-convert');\n",
              "        buttonEl.style.display =\n",
              "          google.colab.kernel.accessAllowed ? 'block' : 'none';\n",
              "\n",
              "        async function convertToInteractive(key) {\n",
              "          const element = document.querySelector('#df-25c34f6b-d02b-4411-8c3b-f83cd9668221');\n",
              "          const dataTable =\n",
              "            await google.colab.kernel.invokeFunction('convertToInteractive',\n",
              "                                                     [key], {});\n",
              "          if (!dataTable) return;\n",
              "\n",
              "          const docLinkHtml = 'Like what you see? Visit the ' +\n",
              "            '<a target=\"_blank\" href=https://colab.research.google.com/notebooks/data_table.ipynb>data table notebook</a>'\n",
              "            + ' to learn more about interactive tables.';\n",
              "          element.innerHTML = '';\n",
              "          dataTable['output_type'] = 'display_data';\n",
              "          await google.colab.output.renderOutput(dataTable, element);\n",
              "          const docLink = document.createElement('div');\n",
              "          docLink.innerHTML = docLinkHtml;\n",
              "          element.appendChild(docLink);\n",
              "        }\n",
              "      </script>\n",
              "    </div>\n",
              "  </div>\n",
              "  "
            ]
          },
          "metadata": {},
          "execution_count": 18
        }
      ]
    },
    {
      "cell_type": "code",
      "source": [
        "plt.scatter(df['Area'], df['Price'])\n",
        "plt.title('PRICE VS AREA')\n",
        "plt.show()"
      ],
      "metadata": {
        "colab": {
          "base_uri": "https://localhost:8080/",
          "height": 281
        },
        "id": "Z6aB9OxGBoA3",
        "outputId": "5c5ab734-d273-4fa7-8d92-4490f4a0bcc2"
      },
      "execution_count": 54,
      "outputs": [
        {
          "output_type": "display_data",
          "data": {
            "text/plain": [
              "<Figure size 432x288 with 1 Axes>"
            ],
            "image/png": "[encoded data removed]"
          },
          "metadata": {
            "needs_background": "light"
          }
        }
      ]
    },
    {
      "cell_type": "markdown",
      "source": [
        "<P>Lets write a function to calculate the mean squared error first</p>"
      ],
      "metadata": {
        "id": "4LaJLhH7Dr8g"
      }
    },
    {
      "cell_type": "code",
      "source": [
        "a = np.array([1, 2, 3])\n",
        "if isinstance(a, np.ndarray):\n",
        "    print('This is a numpy array')"
      ],
      "metadata": {
        "colab": {
          "base_uri": "https://localhost:8080/"
        },
        "id": "QxjJZujtFtgp",
        "outputId": "49816cda-360d-45fb-b5e5-1b99f98d1bc4"
      },
      "execution_count": 29,
      "outputs": [
        {
          "output_type": "stream",
          "name": "stdout",
          "text": [
            "This is a numpy array\n"
          ]
        }
      ]
    },
    {
      "cell_type": "code",
      "source": [
        "def mean_squared_error(y_true, y_pred):\n",
        "    y_true = np.array(y_true)\n",
        "    y_pred = np.array(y_pred)\n",
        "    \n",
        "    sqrt_error = np.square(y_true - y_pred)\n",
        "    return np.mean(sqrt_error)\n",
        "\n",
        "mean_squared_error([1, 2, 3], [3, 4, 5])"
      ],
      "metadata": {
        "colab": {
          "base_uri": "https://localhost:8080/"
        },
        "id": "-KWamS-RDqke",
        "outputId": "700bf9a0-5d8f-4d86-dbb7-29bd684a6d5b"
      },
      "execution_count": 58,
      "outputs": [
        {
          "output_type": "execute_result",
          "data": {
            "text/plain": [
              "4.0"
            ]
          },
          "metadata": {},
          "execution_count": 58
        }
      ]
    },
    {
      "cell_type": "markdown",
      "source": [
        "<P>Lets try to find the best fit line thought the equation derived \n",
        "</P>"
      ],
      "metadata": {
        "id": "P9JsJVs9DN2p"
      }
    },
    {
      "cell_type": "code",
      "source": [
        "def get_slope(x, y):\n",
        "\n",
        "    x = np.array(x)\n",
        "    y = np.array(y)\n",
        "\n",
        "    x_square = np.square(x)\n",
        "    xy = x*y\n",
        "\n",
        "    x_mean = np.mean(x)\n",
        "    y_mean = np.mean(y)\n",
        "    x_square_mean = np.mean(x_square)\n",
        "    xy_mean = np.mean(xy)\n",
        "\n",
        "    nominator = (xy_mean/x_mean) - y_mean\n",
        "    denominator = (x_square_mean/x_mean) - x_mean\n",
        "    return nominator/denominator\n",
        "\n",
        "def get_intercept(x, y):\n",
        "    x = np.array(x)\n",
        "    y = np.array(y)\n",
        "\n",
        "    y_mean = np.mean(y)\n",
        "    x_mean = np.mean(x)\n",
        "    slope = get_slope(x, y)\n",
        "\n",
        "    intercept = y_mean - (x_mean * slope)\n",
        "\n",
        "    return intercept\n"
      ],
      "metadata": {
        "id": "nCXXV8ZgBevf"
      },
      "execution_count": 46,
      "outputs": []
    },
    {
      "cell_type": "code",
      "source": [
        "x = df['Area'] \n",
        "y = df['Price']\n",
        "\n",
        "slope = get_slope(x, y)\n",
        "intercept = get_intercept(x, y)\n",
        "\n",
        "print(f'The slope of the equation is {slope} and the intercept is {intercept}')"
      ],
      "metadata": {
        "colab": {
          "base_uri": "https://localhost:8080/"
        },
        "id": "2zPR96_-R6LS",
        "outputId": "90704626-b4e4-4cae-aeb3-72abc6754efd"
      },
      "execution_count": 47,
      "outputs": [
        {
          "output_type": "stream",
          "name": "stdout",
          "text": [
            "The slope of the equation is 20.936173299163507 and the intercept is -130.14143416662705\n"
          ]
        }
      ]
    },
    {
      "cell_type": "code",
      "source": [
        "def predicted_y(x):\n",
        "    y_pred = slope * x + intercept\n",
        "    return y_pred\n",
        " "
      ],
      "metadata": {
        "id": "2XHpnh6ES5gi"
      },
      "execution_count": 50,
      "outputs": []
    },
    {
      "cell_type": "code",
      "source": [
        "y_pred = predicted_y(x)"
      ],
      "metadata": {
        "id": "r7yH-Ja7TNh0"
      },
      "execution_count": 52,
      "outputs": []
    },
    {
      "cell_type": "code",
      "source": [
        "plt.scatter(x, y)\n",
        "plt.plot(x, y_pred)\n",
        "plt.title('Finding best fit line using direct equation')\n",
        "plt.show()"
      ],
      "metadata": {
        "colab": {
          "base_uri": "https://localhost:8080/",
          "height": 281
        },
        "id": "CzPdYpy2TUl0",
        "outputId": "9e4db1e1-320b-4802-ff7c-aa9e96654c8a"
      },
      "execution_count": 55,
      "outputs": [
        {
          "output_type": "display_data",
          "data": {
            "text/plain": [
              "<Figure size 432x288 with 1 Axes>"
            ],
            "image/png": "[encoded data removed]"
          },
          "metadata": {
            "needs_background": "light"
          }
        }
      ]
    },
    {
      "cell_type": "code",
      "source": [
        "print(f'Total error in direct equation {mean_squared_error(y, y_pred)}')"
      ],
      "metadata": {
        "colab": {
          "base_uri": "https://localhost:8080/"
        },
        "id": "RDEMWlTccoTK",
        "outputId": "b8f83f4f-12c3-4774-f195-617193bdebef"
      },
      "execution_count": 56,
      "outputs": [
        {
          "output_type": "stream",
          "name": "stdout",
          "text": [
            "Total error is 553.5497385453863\n"
          ]
        }
      ]
    },
    {
      "cell_type": "markdown",
      "source": [
        "<h2>Now lets try finds the best fit line using gradient discent</h2>"
      ],
      "metadata": {
        "id": "0DBUl9k6cdd9"
      }
    },
    {
      "cell_type": "code",
      "source": [
        "def gradient_descent(x, y_true, learning_rate=0.01, threshold=600, epochs=30):\n",
        "    x = np.array(x)\n",
        "    y_true = np.array(y_true)\n",
        "\n",
        "    x_squared_mean = np.mean(np.square(x))\n",
        "    x_mean = np.mean(x)\n",
        "\n",
        "    w = 0\n",
        "    bias = 1\n",
        "\n",
        "    for i in range(epochs):\n",
        "        y_pred = w * x + bias\n",
        "        error = mean_squared_error(y_true, y_pred)\n",
        "\n",
        "        xy_pred_mean = np.mean(x * y_pred)\n",
        "        y_pred_mean = np.mean(y_pred)\n",
        "        \n",
        "        w_d = -xy_pred_mean + w * x_squared_mean + bias * x_mean\n",
        "        bias_d = -y_pred_mean + w * x_mean + bias\n",
        "\n",
        "        print(bias_d)\n",
        "        print(w_d)\n",
        "        w = w - learning_rate * w_d\n",
        "        bias = bias - learning_rate * bias_d\n",
        "\n",
        "        print(f'The total mean square error is {error}')\n",
        "        print(y_pred_mean, xy_pred_mean, x_mean, x_squared_mean)\n",
        "        if error < threshold:\n",
        "            break\n",
        "\n",
        "    return w, bias"
      ],
      "metadata": {
        "id": "MDxuAZqHcczG"
      },
      "execution_count": 77,
      "outputs": []
    },
    {
      "cell_type": "code",
      "source": [
        "gradient_descent(x, y, learning_rate=0.1, epochs=2, threshold=600)"
      ],
      "metadata": {
        "colab": {
          "base_uri": "https://localhost:8080/"
        },
        "id": "7G4mLZWpghhv",
        "outputId": "06e31a14-71cc-4f31-b7be-04a85a28ef1f"
      },
      "execution_count": 79,
      "outputs": [
        {
          "output_type": "stream",
          "name": "stdout",
          "text": [
            "0.0\n",
            "0.0\n",
            "The total mean square error is 322803.5\n",
            "1.0 31.357142857142858 31.357142857142858 1088.7857142857142\n"
          ]
        },
        {
          "output_type": "execute_result",
          "data": {
            "text/plain": [
              "(0.0, 1.0)"
            ]
          },
          "metadata": {},
          "execution_count": 79
        }
      ]
    },
    {
      "cell_type": "code",
      "source": [
        "def gradient_descent(x, y_true, learning_rate=0.001, threshold=600, epochs=30):\n",
        "    x = np.array(x)\n",
        "    y_true = np.array(y_true)\n",
        "\n",
        "\n",
        "    w = 0\n",
        "    bias = 1\n",
        "    n = len(x)\n",
        "\n",
        "    for index in range(epochs):\n",
        "        y_pred = w * x + bias\n",
        "        error = mean_squared_error(y_true, y_pred)\n",
        "\n",
        "        w_d =   -(2/n) * sum(x * (y_true- y_pred))\n",
        "        bias_d = -(2/n) * sum(y_true - y_pred)\n",
        "\n",
        "        w = w -  learning_rate * w_d\n",
        "        bias = bias - learning_rate * bias_d\n",
        "        if index % 30 == 0:\n",
        "            print(f'The total mean square error is {error} and slope {w}, bias {bias}')\n",
        "\n",
        "        if error < threshold:\n",
        "            break\n",
        "\n",
        "    return w, bias"
      ],
      "metadata": {
        "id": "9hJVHBJPjGkO"
      },
      "execution_count": 136,
      "outputs": []
    },
    {
      "cell_type": "code",
      "source": [
        "gradient_descent([1, 2, 3, 4, 5], [5, 7, 9, 11, 13], learning_rate=0.01, epochs=20, threshold=1)"
      ],
      "metadata": {
        "colab": {
          "base_uri": "https://localhost:8080/"
        },
        "id": "OWD17X8lnOv9",
        "outputId": "ff610086-c34d-4ae6-932a-a68182c793a5"
      },
      "execution_count": 105,
      "outputs": [
        {
          "output_type": "stream",
          "name": "stdout",
          "text": [
            "The total mean square error is 72.0 and slope 0.56, bias 1.16\n",
            "The total mean square error is 42.0928 and slope 0.9872000000000001, bias 1.2832\n",
            "The total mean square error is 24.663454720000004 and slope 1.313024, bias 1.378304\n",
            "The total mean square error is 14.505591574528001 and slope 1.56146048, bias 1.45195648\n",
            "The total mean square error is 8.585194329633586 and slope 1.7508217856000001, bias 1.5092297216\n",
            "The total mean square error is 5.134188487121925 and slope 1.8950872094720002, bias 1.5539958200319999\n",
            "The total mean square error is 3.12222772007859 and slope 2.00492827418624, bias 1.5892106710630398\n",
            "The total mean square error is 1.9488771576012642 and slope 2.088491413601485, bias 1.6171307611906047\n",
            "The total mean square error is 1.2642330421288384 and slope 2.1519954569377218, bias 1.6394786611507035\n",
            "The total mean square error is 0.8643887462595379 and slope 2.2001877367423806, bias 1.6575693605114261\n"
          ]
        },
        {
          "output_type": "execute_result",
          "data": {
            "text/plain": [
              "(2.2001877367423806, 1.6575693605114261)"
            ]
          },
          "metadata": {},
          "execution_count": 105
        }
      ]
    },
    {
      "cell_type": "code",
      "source": [
        "from sklearn.preprocessing import MinMaxScaler"
      ],
      "metadata": {
        "id": "Fo3x8qXzsGKV"
      },
      "execution_count": 119,
      "outputs": []
    },
    {
      "cell_type": "code",
      "source": [
        "scaler_x = MinMaxScaler()\n",
        "scaler_y = MinMaxScaler()\n",
        "\n",
        "scaled_x = scaler_x.fit_transform(x.values.reshape(1, len(x)))\n",
        "scaled_y = scaler_y.fit_transform(y.values.reshape(1, len(y)))\n",
        "scaled_y"
      ],
      "metadata": {
        "colab": {
          "base_uri": "https://localhost:8080/"
        },
        "id": "wx_O8bwYsNnr",
        "outputId": "7fa6cdbc-1c13-41f1-fd71-535332acb76b"
      },
      "execution_count": 126,
      "outputs": [
        {
          "output_type": "execute_result",
          "data": {
            "text/plain": [
              "array([[0., 0., 0., 0., 0., 0., 0., 0., 0., 0., 0., 0., 0., 0.]])"
            ]
          },
          "metadata": {},
          "execution_count": 126
        }
      ]
    },
    {
      "cell_type": "code",
      "source": [
        "scaler_y.inverse_transform(scaled_y)"
      ],
      "metadata": {
        "colab": {
          "base_uri": "https://localhost:8080/"
        },
        "id": "6iq21TaYs7FT",
        "outputId": "47c99fda-f6d1-4fe5-b2d0-0b7062454c25"
      },
      "execution_count": 128,
      "outputs": [
        {
          "output_type": "execute_result",
          "data": {
            "text/plain": [
              "array([[200., 260., 354., 376., 335., 380., 459., 530., 600., 685., 700.,\n",
              "        735., 800., 955.]])"
            ]
          },
          "metadata": {},
          "execution_count": 128
        }
      ]
    },
    {
      "cell_type": "code",
      "source": [
        "new_x = scaled_x.reshape(len(x), )\n",
        "new_y = scaled_y.reshape(len(y), )"
      ],
      "metadata": {
        "id": "RFjzuEKQtKmH"
      },
      "execution_count": 130,
      "outputs": []
    },
    {
      "cell_type": "code",
      "source": [
        "w, bias = gradient_descent(new_x, new_y, learning_rate=0.01, epochs=5000, threshold=0.001)"
      ],
      "metadata": {
        "colab": {
          "base_uri": "https://localhost:8080/"
        },
        "id": "iijQrKW9rA8V",
        "outputId": "7c251cbc-e666-456d-9a3f-54a5f428418f"
      },
      "execution_count": 141,
      "outputs": [
        {
          "output_type": "stream",
          "name": "stdout",
          "text": [
            "The total mean square error is 1.0 and slope 0.0, bias 0.98\n",
            "The total mean square error is 0.29755314269212063 and slope 0.0, bias 0.5345746329947884\n",
            "The total mean square error is 0.08853787272595756 and slope 0.0, bias 0.2916020798382783\n",
            "The total mean square error is 0.026344722276883677 and slope 0.0, bias 0.15906436205108637\n",
            "The total mean square error is 0.007838954906837862 and slope 0.0, bias 0.0867671152714384\n",
            "The total mean square error is 0.002332505667951423 and slope 0.0, bias 0.047330100818618034\n"
          ]
        }
      ]
    },
    {
      "cell_type": "code",
      "source": [
        "y_predicted = w * new_x + bias\n",
        "y_pred_new = scaler_y.inverse_transform(y_predicted.reshape(1, len(y_predicted)))\n",
        "y_pred_new"
      ],
      "metadata": {
        "colab": {
          "base_uri": "https://localhost:8080/"
        },
        "id": "3HUWZ9qSuB_3",
        "outputId": "e3a5b71c-c053-42b9-aad4-800239732323"
      },
      "execution_count": 143,
      "outputs": [
        {
          "output_type": "execute_result",
          "data": {
            "text/plain": [
              "array([[200.03096599, 260.03096599, 354.03096599, 376.03096599,\n",
              "        335.03096599, 380.03096599, 459.03096599, 530.03096599,\n",
              "        600.03096599, 685.03096599, 700.03096599, 735.03096599,\n",
              "        800.03096599, 955.03096599]])"
            ]
          },
          "metadata": {},
          "execution_count": 143
        }
      ]
    },
    {
      "cell_type": "code",
      "source": [
        "y.tolist()"
      ],
      "metadata": {
        "colab": {
          "base_uri": "https://localhost:8080/"
        },
        "id": "wreMrPGVuop4",
        "outputId": "5be813d8-c7b1-46a3-de88-a4d49695bbc4"
      },
      "execution_count": 148,
      "outputs": [
        {
          "output_type": "execute_result",
          "data": {
            "text/plain": [
              "[200, 260, 354, 376, 335, 380, 459, 530, 600, 685, 700, 735, 800, 955]"
            ]
          },
          "metadata": {},
          "execution_count": 148
        }
      ]
    },
    {
      "cell_type": "code",
      "source": [
        "print([round(value) for value in y_pred.tolist()])"
      ],
      "metadata": {
        "colab": {
          "base_uri": "https://localhost:8080/"
        },
        "id": "wLokfVHVuxw2",
        "outputId": "46372f4d-a087-4ece-d99d-acea2d61c4ce"
      },
      "execution_count": 153,
      "outputs": [
        {
          "output_type": "stream",
          "name": "stdout",
          "text": [
            "[184, 289, 330, 351, 372, 393, 456, 498, 603, 686, 707, 770, 812, 917]\n"
          ]
        }
      ]
    },
    {
      "cell_type": "code",
      "source": [
        "plt.scatter(x, y)\n",
        "plt.plot(x, y_pred, label='From equation')\n",
        "plt.plot(x, y_pred_new.flatten(), label='From gradient disecent')\n",
        "plt.show()"
      ],
      "metadata": {
        "colab": {
          "base_uri": "https://localhost:8080/",
          "height": 265
        },
        "id": "NQMFagO8vIZr",
        "outputId": "4c0ee715-2de6-41fa-fdb3-5cc67d121326"
      },
      "execution_count": 156,
      "outputs": [
        {
          "output_type": "display_data",
          "data": {
            "text/plain": [
              "<Figure size 432x288 with 1 Axes>"
            ],
            "image/png": "[encoded data removed]"
          },
          "metadata": {
            "needs_background": "light"
          }
        }
      ]
    },
    {
      "cell_type": "code",
      "source": [
        "print(f'The mean square error is {mean_squared_error(y, y_pred_new)}')"
      ],
      "metadata": {
        "colab": {
          "base_uri": "https://localhost:8080/"
        },
        "id": "i2G0k35BuVx5",
        "outputId": "5763fea7-a029-4eb8-d9c3-237c0e5389e3"
      },
      "execution_count": 145,
      "outputs": [
        {
          "output_type": "stream",
          "name": "stdout",
          "text": [
            "The mean square error is 0.000958892757051743\n"
          ]
        }
      ]
    }
  ],
  "metadata": {
    "colab": {
      "collapsed_sections": [],
      "name": "differentways_to_find_best_fitline",
      "provenance": [],
      "include_colab_link": true
    },
    "kernelspec": {
      "display_name": "Python 3",
      "name": "python3"
    }
  },
  "nbformat": 4,
  "nbformat_minor": 0
}