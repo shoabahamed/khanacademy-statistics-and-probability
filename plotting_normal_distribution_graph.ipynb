{
  "cells": [
    {
      "cell_type": "markdown",
      "metadata": {
        "id": "view-in-github",
        "colab_type": "text"
      },
      "source": [
        "<a href=\"https://colab.research.google.com/github/shoabahamed/khanacademy-statistics-and-probability/blob/main/plotting_normal_distribution_graph.ipynb\" target=\"_parent\"><img src=\"https://colab.research.google.com/assets/colab-badge.svg\" alt=\"Open In Colab\"/></a>"
      ]
    },
    {
      "cell_type": "markdown",
      "source": [
        "<h2>PRACTICE</h2>\n",
        "<H3>Create the same plot in excel but with more functions such as making probability guesses such as what is probability of a value being in between a and b</H3>"
      ],
      "metadata": {
        "id": "aEaFA5blTZ8P"
      }
    },
    {
      "cell_type": "code",
      "source": [
        "import numpy as np\n",
        "import matplotlib.pyplot as pltb"
      ],
      "metadata": {
        "id": "xlWU_e6iQUnz"
      },
      "execution_count": null,
      "outputs": []
    },
    {
      "cell_type": "code",
      "source": [
        "datas = np.arange(-20, 21, 1)\n",
        "datas"
      ],
      "metadata": {
        "id": "sjAla_M0QnHa",
        "outputId": "af68f5b9-7b3f-474f-f955-0df973fa31fa",
        "colab": {
          "base_uri": "https://localhost:8080/"
        }
      },
      "execution_count": null,
      "outputs": [
        {
          "output_type": "execute_result",
          "data": {
            "text/plain": [
              "array([-20, -19, -18, -17, -16, -15, -14, -13, -12, -11, -10,  -9,  -8,\n",
              "        -7,  -6,  -5,  -4,  -3,  -2,  -1,   0,   1,   2,   3,   4,   5,\n",
              "         6,   7,   8,   9,  10,  11,  12,  13,  14,  15,  16,  17,  18,\n",
              "        19,  20])"
            ]
          },
          "metadata": {},
          "execution_count": 41
        }
      ]
    },
    {
      "cell_type": "code",
      "source": [
        "def get_variance(datas):\n",
        "    mean = np.mean(datas)\n",
        "    deviation_sum = np.sum(np.square(datas-mean))\n",
        "    return deviation_sum/len(datas)\n",
        "    \n",
        "def get_zscore(datas, miu, std):\n",
        "    return (datas - miu)/std"
      ],
      "metadata": {
        "id": "OBW1FI9oQquL"
      },
      "execution_count": null,
      "outputs": []
    },
    {
      "cell_type": "code",
      "source": [
        "def get_normal_values(datas, miu=5, variance=25):\n",
        "    std = np.sqrt(variance)\n",
        "    zscore = get_zscore(datas, miu, std)\n",
        "\n",
        "    denominator = np.sqrt(2*np.pi*variance)\n",
        "    nominator = np.exp(-((zscore*zscore)/2))\n",
        "\n",
        "    return nominator / denominator\n"
      ],
      "metadata": {
        "id": "QgJx7A9OQ4c2"
      },
      "execution_count": null,
      "outputs": []
    },
    {
      "cell_type": "code",
      "source": [
        "variance = get_variance(datas)\n",
        "mean = np.mean(datas)\n",
        "print(f\"The mean of the datas is {mean}\")\n",
        "print(f\"The variance of the datas is {variance}\")"
      ],
      "metadata": {
        "id": "43Hyy17ISfJS",
        "outputId": "7bb2200a-10b6-43a2-92fd-21a7f4413455",
        "colab": {
          "base_uri": "https://localhost:8080/"
        }
      },
      "execution_count": null,
      "outputs": [
        {
          "output_type": "stream",
          "name": "stdout",
          "text": [
            "The mean of the datas is 0.0\n",
            "The variance of the datas is 140.0\n"
          ]
        }
      ]
    },
    {
      "cell_type": "code",
      "source": [
        "normal_vals = get_normal_values(datas, miu=0, variance=140)\n",
        "plt.plot(datas, normal_vals)\n",
        "plt.show()"
      ],
      "metadata": {
        "id": "dKr_dXObR1qZ",
        "outputId": "4d48d3d2-8062-4d4f-9e26-9d7d806020b9",
        "colab": {
          "base_uri": "https://localhost:8080/",
          "height": 265
        }
      },
      "execution_count": null,
      "outputs": [
        {
          "output_type": "display_data",
          "data": {
            "text/plain": [
              "<Figure size 432x288 with 1 Axes>"
            ],
            "image/png": "[encoded data removed]"
          },
          "metadata": {
            "needs_background": "light"
          }
        }
      ]
    },
    {
      "cell_type": "code",
      "source": [
        "normal_vals = get_normal_values(datas, miu=5, variance=25)\n",
        "plt.plot(datas, normal_vals)\n",
        "plt.show()"
      ],
      "metadata": {
        "id": "Nf6LblPWSynr",
        "outputId": "28cd03f6-64cf-4a29-ef7f-ac571fd4f64a",
        "colab": {
          "base_uri": "https://localhost:8080/",
          "height": 265
        }
      },
      "execution_count": null,
      "outputs": [
        {
          "output_type": "display_data",
          "data": {
            "text/plain": [
              "<Figure size 432x288 with 1 Axes>"
            ],
            "image/png": "[encoded data removed]"
          },
          "metadata": {
            "needs_background": "light"
          }
        }
      ]
    }
  ],
  "metadata": {
    "colab": {
      "collapsed_sections": [],
      "name": "plotting_normal_distribution_graph",
      "provenance": [],
      "include_colab_link": true
    },
    "kernelspec": {
      "display_name": "Python 3",
      "name": "python3"
    }
  },
  "nbformat": 4,
  "nbformat_minor": 0
}